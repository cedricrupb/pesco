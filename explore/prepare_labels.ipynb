{
 "cells": [
  {
   "cell_type": "code",
   "execution_count": 1,
   "metadata": {},
   "outputs": [],
   "source": [
    "PATH = \"../../data/labels/\"\n",
    "GT   = \"../../data/ground_truth.json\"\n",
    "OUT  = \"../../data/cpachecker_labels.jsonl\"\n"
   ]
  },
  {
   "cell_type": "code",
   "execution_count": 2,
   "metadata": {},
   "outputs": [],
   "source": [
    "import os\n",
    "import json\n",
    "from glob import glob\n",
    "\n",
    "with open(GT, \"r\") as i:\n",
    "    gt = json.load(i)\n",
    "\n",
    "def is_correct(object):\n",
    "    file = object[\"file\"]\n",
    "    file = os.path.basename(file)\n",
    "    file, _ = os.path.splitext(file)\n",
    "    fgt  = gt.get(file, None)\n",
    "    if fgt is None: print(file);return False\n",
    "    return fgt\n",
    "\n",
    "def _path_to_task_id(path):\n",
    "    if len(path.split(\"/\")) == 2: return path\n",
    "    base_name = os.path.basename(path)\n",
    "    dirname = os.path.basename(os.path.dirname(path))\n",
    "    base_name = base_name.replace(\".c\", \"\").replace(\".i\", \"\").replace(\".yml\", \"\")\n",
    "    return f\"{dirname}/{base_name}\"\n",
    "\n",
    "output = {}\n",
    "\n",
    "# {\"tool\": \"CBMC\", \"benchmark\": \"cbmc\", \"task_file\": \"../sv-benchmarks/c/systemc/bist_cell.cil.yml\", \"status\": \"ERROR (42)\", \"verdict\": \"true\", \"cputime\": 875.252759525, \"walltime\": 875.064540537016, \"memory\": 11448655872}\n",
    "\n",
    "for result_file in glob(os.path.join(PATH, \"*.json\")):\n",
    "    name = os.path.basename(result_file).replace(\".json\", \"\")\n",
    "    with open(result_file, \"r\") as i:\n",
    "        content = json.load(i)\n",
    "    \n",
    "    for object in content.values():\n",
    "        identifier = object[\"file\"]\n",
    "        identifier = os.path.basename(identifier).replace(\".c\", \"\").replace(\".i\", \"\").replace(\".yml\", \"\")\n",
    "        if identifier not in output:\n",
    "            output[identifier] = []\n",
    "\n",
    "        file_id = _path_to_task_id(object[\"file\"])\n",
    "\n",
    "        result = {\n",
    "            \"tool\": name,\n",
    "            \"benchmark\": name,\n",
    "            \"task_file\": file_id,\n",
    "            \"status\"   : object[\"status\"],\n",
    "            \"verdict\"  : is_correct(object),\n",
    "            \"cputime\"  : object[\"cputime\"],\n",
    "            \"memory\"   : object[\"memUsage\"]\n",
    "        }\n",
    "\n",
    "        output[identifier].append(result)"
   ]
  },
  {
   "cell_type": "code",
   "execution_count": 3,
   "metadata": {},
   "outputs": [],
   "source": [
    "with open(OUT, \"w\") as o:\n",
    "    for results in sorted(output.values(), key = lambda x: len(x)):\n",
    "        if len(results) == 1: continue\n",
    "        o.write(json.dumps(results) + \"\\n\")"
   ]
  }
 ],
 "metadata": {
  "kernelspec": {
   "display_name": "Python 3.8.8",
   "language": "python",
   "name": "python3"
  },
  "language_info": {
   "codemirror_mode": {
    "name": "ipython",
    "version": 3
   },
   "file_extension": ".py",
   "mimetype": "text/x-python",
   "name": "python",
   "nbconvert_exporter": "python",
   "pygments_lexer": "ipython3",
   "version": "3.8.8"
  },
  "orig_nbformat": 4,
  "vscode": {
   "interpreter": {
    "hash": "e340a0a01ab186b377b016c01aa7d5d1230eddf285ffed81230a024c78a4da64"
   }
  }
 },
 "nbformat": 4,
 "nbformat_minor": 2
}
